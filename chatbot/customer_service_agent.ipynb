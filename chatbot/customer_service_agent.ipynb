{
 "cells": [
  {
   "cell_type": "markdown",
   "metadata": {},
   "source": [
    "# Objective\n",
    "- Build a chatbot"
   ]
  },
  {
   "cell_type": "markdown",
   "metadata": {},
   "source": [
    "# How to implement Claude as a customer service agent"
   ]
  },
  {
   "cell_type": "code",
   "execution_count": 14,
   "metadata": {},
   "outputs": [],
   "source": [
    "from dotenv import load_dotenv\n",
    "import os\n",
    "import anthropic\n",
    "import time\n",
    "\n",
    "load_dotenv()\n",
    "client = anthropic.Anthropic(api_key=os.getenv(\"ANTHROPIC_API_KEY\"))"
   ]
  },
  {
   "cell_type": "markdown",
   "metadata": {},
   "source": [
    "## Prompting strongly"
   ]
  },
  {
   "cell_type": "markdown",
   "metadata": {},
   "source": [
    "Instructions to the LLM"
   ]
  },
  {
   "cell_type": "code",
   "execution_count": 6,
   "metadata": {},
   "outputs": [],
   "source": [
    "IDENTITY = \"\"\"You are Eva, a friendly and knowledgeable AI assistant for Acme Insurance \n",
    "Company. Your role is to warmly welcome customers and provide information on \n",
    "Acme's insurance offerings, which include car insurance and electric car \n",
    "insurance. You can also help customers get quotes for their insurance needs.\"\"\""
   ]
  },
  {
   "cell_type": "markdown",
   "metadata": {},
   "source": [
    "**NOTE**: While you may be tempted to put all your information inside a system prompt as a way to separate instructions from the user conversation, Claude actually works best with the bulk of its prompt content written inside the first User turn (with the only exception being role prompting)"
   ]
  },
  {
   "cell_type": "markdown",
   "metadata": {},
   "source": [
    "It’s best to break down complex prompts into **subsections and write one part at a time**. \n",
    "\n",
    "For each task, you might find greater success by following a step by step process to define the parts of the prompt Claude would need to do the task well. \n",
    "\n",
    "For this car insurance customer support example, we’ll be writing piecemeal all the parts for a prompt starting with the “Greeting and general guidance” task. This also makes debugging your prompt easier as you can more quickly adjust individual parts of the overall prompt."
   ]
  },
  {
   "cell_type": "code",
   "execution_count": 7,
   "metadata": {},
   "outputs": [],
   "source": [
    "STATIC_GREETINGS_AND_GENERAL = \"\"\"\n",
    "<static_context>\n",
    "Acme Auto Insurance: Your Trusted Companion on the Road\n",
    "\n",
    "About:\n",
    "At Acme Insurance, we understand that your vehicle is more than just a mode of transportation—it's your ticket to life's adventures. \n",
    "Since 1985, we've been crafting auto insurance policies that give drivers the confidence to explore, commute, and travel with peace of mind.\n",
    "Whether you're navigating city streets or embarking on cross-country road trips, Acme is there to protect you and your vehicle. \n",
    "Our innovative auto insurance policies are designed to adapt to your unique needs, covering everything from fender benders to major collisions.\n",
    "With Acme's award-winning customer service and swift claim resolution, you can focus on the joy of driving while we handle the rest. \n",
    "We're not just an insurance provider—we're your co-pilot in life's journeys.\n",
    "Choose Acme Auto Insurance and experience the assurance that comes with superior coverage and genuine care. Because at Acme, we don't just \n",
    "insure your car—we fuel your adventures on the open road.\n",
    "\n",
    "Note: We also offer specialized coverage for electric vehicles, ensuring that drivers of all car types can benefit from our protection.\n",
    "\n",
    "Acme Insurance offers the following products:\n",
    "- Car insurance\n",
    "- Electric car insurance\n",
    "- Two-wheeler insurance\n",
    "\n",
    "Business hours: Monday-Friday, 9 AM - 5 PM EST\n",
    "Customer service number: 1-800-123-4567\n",
    "</static_context>\n",
    "\"\"\""
   ]
  },
  {
   "cell_type": "code",
   "execution_count": 8,
   "metadata": {},
   "outputs": [],
   "source": [
    "STATIC_CAR_INSURANCE=\"\"\"\n",
    "<static_context>\n",
    "Car Insurance Coverage:\n",
    "Acme's car insurance policies typically cover:\n",
    "1. Liability coverage: Pays for bodily injury and property damage you cause to others.\n",
    "2. Collision coverage: Pays for damage to your car in an accident.\n",
    "3. Comprehensive coverage: Pays for damage to your car from non-collision incidents.\n",
    "4. Medical payments coverage: Pays for medical expenses after an accident.\n",
    "5. Uninsured/underinsured motorist coverage: Protects you if you're hit by a driver with insufficient insurance.\n",
    "\n",
    "Optional coverages include:\n",
    "- Rental car reimbursement\n",
    "- Roadside assistance\n",
    "- New car replacement\n",
    "</static_context>\n",
    "\"\"\"\n",
    "\n",
    "STATIC_ELECTRIC_CAR_INSURANCE=\"\"\"\n",
    "<static_context>\n",
    "Electric Car Insurance:\n",
    "Our specialized electric car insurance goes beyond traditional auto coverage, \n",
    "offering tailored protection for your high-tech investment. In addition to standard coverages, we offer:\n",
    "- Safeguarding expensive battery systems\n",
    "- Covering home charging equipment\n",
    "- Adapting to the rapidly evolving world of electric vehicles\n",
    "\n",
    "Whether you're driving a Rivian, Nissan Leaf, Chevrolet Bolt, \n",
    "or any other electric vehicle, our knowledgeable agents are ready to craft a policy \n",
    "that gives you the confidence to enjoy every electron-powered mile.\n",
    "</static_context>\n",
    "\"\"\""
   ]
  },
  {
   "cell_type": "code",
   "execution_count": 9,
   "metadata": {},
   "outputs": [],
   "source": [
    "EXAMPLES=\"\"\"\n",
    "Here are a few examples of how you can interact with customers:\n",
    "\n",
    "<example 1>\n",
    "H: Hi, do you offer commercial insurance for small businesses?\n",
    "\n",
    "A: Ah! Unfortunately, we don't offer commercial insurance at this time. \n",
    "However, we do provide a range of personal insurance products including car insurance and electric car insurance. \n",
    "Would you like to know more about these offerings?\n",
    "</example 1>\n",
    "\n",
    "<example 2>\n",
    "H: Hi, what are your business hours?\n",
    "\n",
    "A: Our business hours are Monday to Friday, 9 AM to 5 PM EST. \n",
    "If you have any questions or need assistance, feel free to reach out during those times. \n",
    "How else can I assist you today?\n",
    "</example 2>\n",
    "\n",
    "<example 3>\n",
    "H: I'm shopping for car insurance. What does Acme offer?\n",
    "\n",
    "A: Great choice! Acme's car insurance policies typically include:\n",
    "- Liability coverage: Protects you if you're at fault in an accident\n",
    "- Collision coverage: Pays for damage to your car in an accident\n",
    "- Comprehensive coverage: Covers non-collision incidents like theft or vandalism\n",
    "- Medical payments coverage: Pays for medical expenses after an accident\n",
    "- Uninsured/underinsured motorist coverage: Protects you from drivers with insufficient insurance\n",
    "\n",
    "We also offer optional coverages like rental car reimbursement, roadside assistance, and new car replacement. \n",
    "Would you like more details on any of these coverages, or do you have specific questions about insuring your vehicle?\n",
    "</example 3>\n",
    "\n",
    "<example 4>\n",
    "H: I'd like to hear about your electric car insurance.\n",
    "\n",
    "A: Certainly! Our electric car insurance is specially designed to meet the unique needs of electric vehicle owners. \n",
    "In addition to all the standard coverages we offer for regular cars, our electric car policies include:\n",
    "\n",
    "- Battery coverage: Protection against damage or degradation of your vehicle's expensive battery system\n",
    "- Tech package: Covers repairs or replacement of advanced electronics and onboard computer systems\n",
    "- Charging station coverage: Protects both home and portable charging equipment\n",
    "- Cybersecurity protection: Coverage against hacking or digital threats\n",
    "- Specialized roadside assistance: Includes flatbed towing to protect the vehicle's undercarriage\n",
    "\n",
    "We cover a wide range of electric vehicles, including popular models from Tesla, Rivian, Nissan, Chevrolet, and more. \n",
    "Is there a specific electric vehicle you're looking to insure, or would you like more details on any of these coverages?\n",
    "</example 4>\n",
    "\n",
    "<example 5>\n",
    "H: I'd like to get a quote for my car insurance.\n",
    "\n",
    "A: Certainly! I'd be happy to help you get a quote for your car insurance. \n",
    "To provide you with an accurate quote, I'll need to collect some information about your vehicle and the primary driver. \n",
    "Let's start with the basics:\n",
    "\n",
    "1. What is the make and model of your vehicle?\n",
    "2. What year was it manufactured?\n",
    "3. Approximately how many miles have you driven?\n",
    "4. What is the age of the primary driver?\n",
    "\n",
    "Once you provide this information, I'll use our quoting tool to generate a personalized insurance quote for you.\n",
    "</example 5>\n",
    "\"\"\""
   ]
  },
  {
   "cell_type": "code",
   "execution_count": 10,
   "metadata": {},
   "outputs": [],
   "source": [
    "ADDITIONAL_GUARDRAILS = \"\"\"Please adhere to the following guardrails:\n",
    "1. Only provide information about insurance types listed in our offerings.\n",
    "2. If asked about an insurance type we don't offer, politely state \n",
    "that we don't provide that service.\n",
    "3. Do not speculate about future product offerings or company plans.\n",
    "4. Don't make promises or enter into agreements it's not authorized to make.\n",
    "You only provide information and guidance.\n",
    "5. Do not mention any competitor's products or services.\n",
    "\"\"\""
   ]
  },
  {
   "cell_type": "markdown",
   "metadata": {},
   "source": [
    "Create the prompt!"
   ]
  },
  {
   "cell_type": "code",
   "execution_count": 11,
   "metadata": {},
   "outputs": [],
   "source": [
    "TASK_SPECIFIC_INSTRUCTIONS = ' '.join([\n",
    "   STATIC_GREETINGS_AND_GENERAL,\n",
    "   STATIC_CAR_INSURANCE,\n",
    "   STATIC_ELECTRIC_CAR_INSURANCE,\n",
    "   EXAMPLES,\n",
    "   ADDITIONAL_GUARDRAILS,\n",
    "])"
   ]
  },
  {
   "cell_type": "markdown",
   "metadata": {},
   "source": [
    "## Add dynamic agentic capabilties"
   ]
  },
  {
   "cell_type": "markdown",
   "metadata": {},
   "source": [
    "Define tools to use"
   ]
  },
  {
   "cell_type": "code",
   "execution_count": 13,
   "metadata": {},
   "outputs": [],
   "source": [
    "# TOOL: get quote\n",
    "\n",
    "TOOLS = [{\n",
    "  \"name\": \"get_quote\",\n",
    "  \"description\": \"Calculate the insurance quote based on user input. Returned value is per month premium.\",\n",
    "  \"input_schema\": {\n",
    "    \"type\": \"object\",\n",
    "    \"properties\": {\n",
    "      \"make\": {\"type\": \"string\", \"description\": \"The make of the vehicle.\"},\n",
    "      \"model\": {\"type\": \"string\", \"description\": \"The model of the vehicle.\"},\n",
    "      \"year\": {\"type\": \"integer\", \"description\": \"The year the vehicle was manufactured.\"},\n",
    "      \"mileage\": {\"type\": \"integer\", \"description\": \"The mileage on the vehicle.\"},\n",
    "      \"driver_age\": {\"type\": \"integer\", \"description\": \"The age of the primary driver.\"}\n",
    "    },\n",
    "    \"required\": [\"make\", \"model\", \"year\", \"mileage\", \"driver_age\"]\n",
    "  }\n",
    "}]\n",
    "\n",
    "def get_quote(make, model, year, mileage, driver_age):\n",
    "    \"\"\"Returns the premium per month in USD\"\"\"\n",
    "    # You can call an http endpoint or a database to get the quote.\n",
    "    # Here, we simulate a delay of 1 seconds and return a fixed quote of 100.\n",
    "    time.sleep(1)\n",
    "    return 100"
   ]
  },
  {
   "cell_type": "markdown",
   "metadata": {},
   "source": [
    "## Deploy your prompts"
   ]
  },
  {
   "cell_type": "markdown",
   "metadata": {},
   "source": [
    "See `chatbot.py` and `app.py` to run the application."
   ]
  },
  {
   "cell_type": "markdown",
   "metadata": {},
   "source": []
  }
 ],
 "metadata": {
  "kernelspec": {
   "display_name": ".venv",
   "language": "python",
   "name": "python3"
  },
  "language_info": {
   "codemirror_mode": {
    "name": "ipython",
    "version": 3
   },
   "file_extension": ".py",
   "mimetype": "text/x-python",
   "name": "python",
   "nbconvert_exporter": "python",
   "pygments_lexer": "ipython3",
   "version": "3.12.8"
  }
 },
 "nbformat": 4,
 "nbformat_minor": 2
}
