{
 "cells": [
  {
   "cell_type": "markdown",
   "metadata": {},
   "source": [
    "# Objective\n",
    "Create a customer service agent with client side tools. The chatbot can:\n",
    "- lookup information\n",
    "- retrieve order details\n",
    "- cancel orders\n",
    "\n"
   ]
  },
  {
   "cell_type": "markdown",
   "metadata": {},
   "source": [
    "# How to use tools"
   ]
  },
  {
   "cell_type": "markdown",
   "metadata": {},
   "source": [
    "1. Provide tools in user prompt\n",
    "\n",
    "2. Claude decides to use a tool\n",
    "\n",
    "3. Extract tool input, run code, and return results\n",
    "\n",
    "4. Claude uses tool result to formulate a response\n",
    "\n",
    "Note steps 3 and 4 are optional."
   ]
  },
  {
   "cell_type": "markdown",
   "metadata": {},
   "source": [
    "**Specifying tools**\n",
    "- name\n",
    "- description\n",
    "- input_schema: json schema defining the expected parameters\n",
    "\n",
    "\n",
    "**Specifying a prompt for tool use**\n",
    "\n",
    "```\n",
    "In this environment you have access to a set of tools you can use to answer the user's question.\n",
    "{{ FORMATTING INSTRUCTIONS }}\n",
    "String and scalar parameters should be specified as is, while lists and objects should use JSON format. Note that spaces for string values are not stripped. The output is not expected to be valid XML and is parsed with regular expressions.\n",
    "Here are the functions available in JSONSchema format:\n",
    "{{ TOOL DEFINITIONS IN JSON SCHEMA }}\n",
    "{{ USER SYSTEM PROMPT }}\n",
    "{{ TOOL CONFIGURATION }}\n",
    "```\n",
    "\n",
    "**Tips**\n",
    "- Provide extremely detailed desrciptions\n",
    "    - what the tool does\n",
    "    - when it should be used\n",
    "    - what each parameter means and how it affects tool´s behavior\n",
    "    - caveats or limitations\n",
    "- Prioritize descriptions over examples\n",
    "\n",
    "**Forcing tool use**\n",
    "\n",
    "Use:\n",
    "```\n",
    "tool_choice = {\"type\": \"tool\", \"name\": \"get_weather\"}\n",
    "```"
   ]
  },
  {
   "cell_type": "markdown",
   "metadata": {},
   "source": [
    "### Step 1: Define model and setup environment"
   ]
  },
  {
   "cell_type": "code",
   "execution_count": 1,
   "metadata": {},
   "outputs": [],
   "source": [
    "from dotenv import load_dotenv\n",
    "import os\n",
    "import anthropic\n",
    "\n",
    "load_dotenv()\n",
    "client = anthropic.Anthropic(api_key=os.getenv(\"ANTHROPIC_API_KEY\"))"
   ]
  },
  {
   "cell_type": "code",
   "execution_count": 2,
   "metadata": {},
   "outputs": [],
   "source": [
    "MODEL_NAME = \"claude-3-opus-20240229\""
   ]
  },
  {
   "cell_type": "markdown",
   "metadata": {},
   "source": [
    "### Step 2: Define the client-side tools\n"
   ]
  },
  {
   "cell_type": "code",
   "execution_count": 4,
   "metadata": {},
   "outputs": [],
   "source": [
    "tools = [\n",
    "    {\n",
    "        \"name\": \"get_customer_info\",\n",
    "        \"description\": \"Retrieves customer information based on their customer ID. Returns the customer's name, email, and phone number.\",\n",
    "        \"input_schema\": {\n",
    "            \"type\": \"object\",\n",
    "            \"properties\": {\n",
    "                \"customer_id\": {\n",
    "                    \"type\": \"string\",\n",
    "                    \"description\": \"The unique identifier for the customer.\"\n",
    "                }\n",
    "            },\n",
    "            \"required\": [\"customer_id\"]\n",
    "        }\n",
    "    },\n",
    "    {\n",
    "        \"name\": \"get_order_details\",\n",
    "        \"description\": \"Retrieves the details of a specific order based on the order ID. Returns the order ID, product name, quantity, price, and order status.\",\n",
    "        \"input_schema\": {\n",
    "            \"type\": \"object\",\n",
    "            \"properties\": {\n",
    "                \"order_id\": {\n",
    "                    \"type\": \"string\",\n",
    "                    \"description\": \"The unique identifier for the order.\"\n",
    "                }\n",
    "            },\n",
    "            \"required\": [\"order_id\"]\n",
    "        }\n",
    "    },\n",
    "    {\n",
    "        \"name\": \"cancel_order\",\n",
    "        \"description\": \"Cancels an order based on the provided order ID. Returns a confirmation message if the cancellation is successful.\",\n",
    "        \"input_schema\": {\n",
    "            \"type\": \"object\",\n",
    "            \"properties\": {\n",
    "                \"order_id\": {\n",
    "                    \"type\": \"string\",\n",
    "                    \"description\": \"The unique identifier for the order to be cancelled.\"\n",
    "                }\n",
    "            },\n",
    "            \"required\": [\"order_id\"]\n",
    "        }\n",
    "    }\n",
    "]"
   ]
  },
  {
   "cell_type": "markdown",
   "metadata": {},
   "source": [
    "### Step 3: Simulate synthetic tool responses"
   ]
  },
  {
   "cell_type": "markdown",
   "metadata": {},
   "source": [
    "In real life, these functions are replaced with your business database"
   ]
  },
  {
   "cell_type": "code",
   "execution_count": 5,
   "metadata": {},
   "outputs": [],
   "source": [
    "def get_customer_info(customer_id):\n",
    "    # Simulated customer data\n",
    "    customers = {\n",
    "        \"C1\": {\"name\": \"John Doe\", \"email\": \"john@example.com\", \"phone\": \"123-456-7890\"},\n",
    "        \"C2\": {\"name\": \"Jane Smith\", \"email\": \"jane@example.com\", \"phone\": \"987-654-3210\"}\n",
    "    }\n",
    "    return customers.get(customer_id, \"Customer not found\")\n",
    "\n",
    "def get_order_details(order_id):\n",
    "    # Simulated order data\n",
    "    orders = {\n",
    "        \"O1\": {\"id\": \"O1\", \"product\": \"Widget A\", \"quantity\": 2, \"price\": 19.99, \"status\": \"Shipped\"},\n",
    "        \"O2\": {\"id\": \"O2\", \"product\": \"Gadget B\", \"quantity\": 1, \"price\": 49.99, \"status\": \"Processing\"}\n",
    "    }\n",
    "    return orders.get(order_id, \"Order not found\")\n",
    "\n",
    "def cancel_order(order_id):\n",
    "    # Simulated order cancellation\n",
    "    if order_id in [\"O1\", \"O2\"]:\n",
    "        return True\n",
    "    else:\n",
    "        return False"
   ]
  },
  {
   "cell_type": "markdown",
   "metadata": {},
   "source": [
    "### Step 4: Process tool calls and return results"
   ]
  },
  {
   "cell_type": "code",
   "execution_count": 7,
   "metadata": {},
   "outputs": [],
   "source": [
    "def process_tool_call(tool_name, tool_input):\n",
    "    \n",
    "    if tool_name == \"get_customer_info\":\n",
    "        return get_customer_info(tool_input[\"customer_id\"])\n",
    "    \n",
    "    elif tool_name == \"get_order_details\":\n",
    "        return get_order_details(tool_input[\"order_id\"])\n",
    "    \n",
    "    elif tool_name == \"cancel_order\":\n",
    "        return cancel_order(tool_input[\"order_id\"])"
   ]
  },
  {
   "cell_type": "markdown",
   "metadata": {},
   "source": [
    "### Step 5: interact with the chatbot"
   ]
  },
  {
   "cell_type": "code",
   "execution_count": 8,
   "metadata": {},
   "outputs": [],
   "source": [
    "import json\n",
    "\n",
    "def chatbot_interaction(user_message):\n",
    "\n",
    "    print(f\"\\n{'='*50}\\nUser Message: {user_message}\\n{'='*50}\")\n",
    "\n",
    "    messages = [\n",
    "        {\"role\": \"user\", \"content\": user_message}\n",
    "    ]\n",
    "\n",
    "    response = client.messages.create(\n",
    "        model=MODEL_NAME,\n",
    "        max_tokens=4096,\n",
    "        tools=tools,\n",
    "        messages=messages\n",
    "    )\n",
    "\n",
    "    print(f\"\\nInitial Response:\")\n",
    "    print(f\"Stop Reason: {response.stop_reason}\")\n",
    "    print(f\"Content: {response.content}\")\n",
    "\n",
    "    # When Claude decides to use one of the tools you’ve provided, it will return a response \n",
    "    # with a stop_reason of tool_use and one or more tool_use content blocks in the API response\n",
    "    while response.stop_reason == \"tool_use\":\n",
    "        tool_use = next(block for block in response.content if block.type == \"tool_use\")\n",
    "        tool_name = tool_use.name\n",
    "        tool_input = tool_use.input\n",
    "\n",
    "        print(f\"\\nTool Used: {tool_name}\")\n",
    "        print(f\"Tool Input:\")\n",
    "        print(json.dumps(tool_input, indent=2))\n",
    "\n",
    "        tool_result = process_tool_call(tool_name, tool_input)\n",
    "\n",
    "        print(f\"\\nTool Result:\")\n",
    "        print(json.dumps(tool_result, indent=2))\n",
    "\n",
    "        # Provide last interaction as context\n",
    "        messages = [\n",
    "            {\"role\": \"user\", \"content\": user_message},\n",
    "            {\"role\": \"assistant\", \"content\": response.content},\n",
    "            {\n",
    "                \"role\": \"user\",\n",
    "                \"content\": [\n",
    "                    {\n",
    "                        \"type\": \"tool_result\",\n",
    "                        \"tool_use_id\": tool_use.id,\n",
    "                        \"content\": str(tool_result),\n",
    "                    }\n",
    "                ],\n",
    "            },\n",
    "        ]\n",
    "\n",
    "        response = client.messages.create(\n",
    "            model=MODEL_NAME,\n",
    "            max_tokens=4096,\n",
    "            tools=tools,\n",
    "            messages=messages\n",
    "        )\n",
    "\n",
    "        print(f\"\\nResponse:\")\n",
    "        print(f\"Stop Reason: {response.stop_reason}\")\n",
    "        print(f\"Content: {response.content}\")\n",
    "\n",
    "    final_response = next(\n",
    "        (block.text for block in response.content if hasattr(block, \"text\")),\n",
    "        None,\n",
    "    )\n",
    "\n",
    "    print(f\"\\nFinal Response: {final_response}\")\n",
    "\n",
    "    return final_response"
   ]
  },
  {
   "cell_type": "markdown",
   "metadata": {},
   "source": [
    "### Step 6: test it!"
   ]
  },
  {
   "cell_type": "code",
   "execution_count": 9,
   "metadata": {},
   "outputs": [
    {
     "name": "stdout",
     "output_type": "stream",
     "text": [
      "\n",
      "==================================================\n",
      "User Message: Can you tell me the email address for customer C1?\n",
      "==================================================\n",
      "\n",
      "Initial Response:\n",
      "Stop Reason: tool_use\n",
      "Content: [TextBlock(text='<thinking>\\nTo find the email address for customer C1, I will need to use the get_customer_info tool. \\n\\nThe get_customer_info tool requires the following parameter:\\n- customer_id (required)\\n\\nThe user provided the customer ID in their request - \"C1\". So I have the necessary information to make this tool call.\\n\\nNo other tools are needed to answer this request. I will proceed with calling the get_customer_info tool with the customer_id parameter set to \"C1\".\\n</thinking>', type='text'), ToolUseBlock(id='toolu_01H6x9MgmmSnsEqMvKEAFTcK', input={'customer_id': 'C1'}, name='get_customer_info', type='tool_use')]\n",
      "\n",
      "Tool Used: get_customer_info\n",
      "Tool Input:\n",
      "{\n",
      "  \"customer_id\": \"C1\"\n",
      "}\n",
      "\n",
      "Tool Result:\n",
      "{\n",
      "  \"name\": \"John Doe\",\n",
      "  \"email\": \"john@example.com\",\n",
      "  \"phone\": \"123-456-7890\"\n",
      "}\n",
      "\n",
      "Response:\n",
      "Stop Reason: end_turn\n",
      "Content: [TextBlock(text='The email address for customer C1 is john@example.com.', type='text')]\n",
      "\n",
      "Final Response: The email address for customer C1 is john@example.com.\n",
      "\n",
      "==================================================\n",
      "User Message: What is the status of order O2?\n",
      "==================================================\n",
      "\n",
      "Initial Response:\n",
      "Stop Reason: tool_use\n",
      "Content: [TextBlock(text='<thinking>\\nTo find the status of order O2, the relevant tool is get_order_details, which takes an order_id parameter. The user has directly provided the order ID in their request - \"O2\".\\nSince the required order_id parameter is available, we can proceed with calling the get_order_details tool to retrieve the status for order O2. No other tools are needed.\\n</thinking>', type='text'), ToolUseBlock(id='toolu_0193RqxxS6aKuAHy3bGAmruy', input={'order_id': 'O2'}, name='get_order_details', type='tool_use')]\n",
      "\n",
      "Tool Used: get_order_details\n",
      "Tool Input:\n",
      "{\n",
      "  \"order_id\": \"O2\"\n",
      "}\n",
      "\n",
      "Tool Result:\n",
      "{\n",
      "  \"id\": \"O2\",\n",
      "  \"product\": \"Gadget B\",\n",
      "  \"quantity\": 1,\n",
      "  \"price\": 49.99,\n",
      "  \"status\": \"Processing\"\n",
      "}\n",
      "\n",
      "Response:\n",
      "Stop Reason: end_turn\n",
      "Content: [TextBlock(text='Based on the order details retrieved, the status of order O2 is \"Processing\".', type='text')]\n",
      "\n",
      "Final Response: Based on the order details retrieved, the status of order O2 is \"Processing\".\n",
      "\n",
      "==================================================\n",
      "User Message: Please cancel order O1 for me.\n",
      "==================================================\n",
      "\n",
      "Initial Response:\n",
      "Stop Reason: tool_use\n",
      "Content: [TextBlock(text='<thinking>\\nThe user has requested to cancel an order with the ID \"O1\". To fulfill this request, the most relevant tool is:\\n\\ncancel_order\\n- Required parameter: order_id\\n  - The user provided the order ID \"O1\" directly in the request, so this parameter is available.\\n\\nSince the required order_id parameter is available, we can proceed with calling the cancel_order tool without needing any additional information from the user or other tool calls.\\n</thinking>', type='text'), ToolUseBlock(id='toolu_01VVvo5U7HhpV37erahUB5uv', input={'order_id': 'O1'}, name='cancel_order', type='tool_use')]\n",
      "\n",
      "Tool Used: cancel_order\n",
      "Tool Input:\n",
      "{\n",
      "  \"order_id\": \"O1\"\n",
      "}\n",
      "\n",
      "Tool Result:\n",
      "true\n",
      "\n",
      "Response:\n",
      "Stop Reason: end_turn\n",
      "Content: [TextBlock(text=\"Great, I've successfully cancelled your order O1. Please let me know if there's anything else I can assist you with.\", type='text')]\n",
      "\n",
      "Final Response: Great, I've successfully cancelled your order O1. Please let me know if there's anything else I can assist you with.\n"
     ]
    },
    {
     "data": {
      "text/plain": [
       "\"Great, I've successfully cancelled your order O1. Please let me know if there's anything else I can assist you with.\""
      ]
     },
     "execution_count": 9,
     "metadata": {},
     "output_type": "execute_result"
    }
   ],
   "source": [
    "chatbot_interaction(\"Can you tell me the email address for customer C1?\")\n",
    "chatbot_interaction(\"What is the status of order O2?\")\n",
    "chatbot_interaction(\"Please cancel order O1 for me.\")"
   ]
  },
  {
   "cell_type": "code",
   "execution_count": null,
   "metadata": {},
   "outputs": [],
   "source": []
  }
 ],
 "metadata": {
  "kernelspec": {
   "display_name": ".venv",
   "language": "python",
   "name": "python3"
  },
  "language_info": {
   "codemirror_mode": {
    "name": "ipython",
    "version": 3
   },
   "file_extension": ".py",
   "mimetype": "text/x-python",
   "name": "python",
   "nbconvert_exporter": "python",
   "pygments_lexer": "ipython3",
   "version": "3.12.8"
  }
 },
 "nbformat": 4,
 "nbformat_minor": 2
}
